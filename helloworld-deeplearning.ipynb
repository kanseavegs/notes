{
 "cells": [
  {
   "cell_type": "markdown",
   "id": "7f2eb2f4-f5f4-4ed2-a5eb-8733fae66b09",
   "metadata": {},
   "source": [
    "## Hello World Deep Learning"
   ]
  },
  {
   "cell_type": "markdown",
   "id": "0eef5d9f-2f20-4ecc-8298-fcb9784b30b9",
   "metadata": {},
   "source": [
    "#### Loading the data"
   ]
  },
  {
   "cell_type": "code",
   "execution_count": 70,
   "id": "0fbfc933-939e-4eb6-9da1-51bb245fd7e1",
   "metadata": {},
   "outputs": [],
   "source": [
    "import numpy as np\n",
    "from keras.models import Sequential\n",
    "from keras.layers.core import Dense, Dropout, Activation\n",
    "from keras.optimizers import SGD, Adam\n",
    "from keras.utils import np_utils\n",
    "from keras.datasets import mnist"
   ]
  },
  {
   "cell_type": "code",
   "execution_count": 75,
   "id": "89095453-12bd-4fd7-bf62-1e8b24915043",
   "metadata": {},
   "outputs": [],
   "source": [
    "def load_data():\n",
    "    (x_train, y_train), (x_test, y_test) = mnist.load_data()\n",
    "    number = 10000\n",
    "    x_train = x_train[:number]\n",
    "    y_train = y_train[:number]\n",
    "    x_train = x_train.reshape(number, 28*28)\n",
    "    x_test = x_test.reshape(x_test.shape[0], 28*28)\n",
    "    x_train = x_train.astype('float')\n",
    "    x_test = x_test.astype('float')\n",
    "    y_train = np_utils.to_categorical(y_train, 10)\n",
    "    y_test = np_utils.to_categorical(y_test, 10)\n",
    "    # 如果没有除以255会train不起来\n",
    "    x_train = x_train\n",
    "    x_test = x_test\n",
    "    x_train = x_train / 255\n",
    "    x_test = x_test / 255\n",
    "    \n",
    "    #☆☆取消注释☆☆ 可校验overfitting后的dropout过程\n",
    "    x_test = np.random.normal(x_test) # 对test进行normal操作\n",
    "    \n",
    "    \n",
    "    \n",
    "    return (x_train, y_train), (x_test, y_test)"
   ]
  },
  {
   "cell_type": "code",
   "execution_count": 76,
   "id": "cb1488ea-9690-4cdf-9ce2-7c16d8a317da",
   "metadata": {},
   "outputs": [],
   "source": [
    "(x_train, y_train), (x_test, y_test) = load_data()"
   ]
  },
  {
   "cell_type": "markdown",
   "id": "f61bf9cc-cf31-49e0-a184-8056335823b1",
   "metadata": {},
   "source": [
    "#### Build the Model and Train"
   ]
  },
  {
   "cell_type": "code",
   "execution_count": 37,
   "id": "c97f954d-5e4c-4c33-b5f7-4522b8ca24b4",
   "metadata": {},
   "outputs": [
    {
     "name": "stdout",
     "output_type": "stream",
     "text": [
      "Epoch 1/20\n",
      "100/100 [==============================] - 1s 7ms/step - loss: 0.0909 - accuracy: 0.0969\n",
      "Epoch 2/20\n",
      "100/100 [==============================] - 1s 7ms/step - loss: 0.0901 - accuracy: 0.1070\n",
      "Epoch 3/20\n",
      "100/100 [==============================] - 1s 6ms/step - loss: 0.0900 - accuracy: 0.1121\n",
      "Epoch 4/20\n",
      "100/100 [==============================] - 1s 6ms/step - loss: 0.0900 - accuracy: 0.1124\n",
      "Epoch 5/20\n",
      "100/100 [==============================] - 1s 7ms/step - loss: 0.0900 - accuracy: 0.1106\n",
      "Epoch 6/20\n",
      "100/100 [==============================] - 1s 7ms/step - loss: 0.0900 - accuracy: 0.1093\n",
      "Epoch 7/20\n",
      "100/100 [==============================] - 1s 7ms/step - loss: 0.0900 - accuracy: 0.1120\n",
      "Epoch 8/20\n",
      "100/100 [==============================] - 1s 7ms/step - loss: 0.0900 - accuracy: 0.1129\n",
      "Epoch 9/20\n",
      "100/100 [==============================] - 1s 6ms/step - loss: 0.0900 - accuracy: 0.1089\n",
      "Epoch 10/20\n",
      "100/100 [==============================] - 1s 6ms/step - loss: 0.0900 - accuracy: 0.1157\n",
      "Epoch 11/20\n",
      "100/100 [==============================] - 1s 7ms/step - loss: 0.0900 - accuracy: 0.1127\n",
      "Epoch 12/20\n",
      "100/100 [==============================] - 1s 7ms/step - loss: 0.0899 - accuracy: 0.1139\n",
      "Epoch 13/20\n",
      "100/100 [==============================] - 1s 7ms/step - loss: 0.0899 - accuracy: 0.1117\n",
      "Epoch 14/20\n",
      "100/100 [==============================] - 1s 7ms/step - loss: 0.0899 - accuracy: 0.1137\n",
      "Epoch 15/20\n",
      "100/100 [==============================] - 1s 7ms/step - loss: 0.0899 - accuracy: 0.1218\n",
      "Epoch 16/20\n",
      "100/100 [==============================] - 1s 7ms/step - loss: 0.0899 - accuracy: 0.1163\n",
      "Epoch 17/20\n",
      "100/100 [==============================] - 1s 6ms/step - loss: 0.0899 - accuracy: 0.1243\n",
      "Epoch 18/20\n",
      "100/100 [==============================] - 1s 7ms/step - loss: 0.0899 - accuracy: 0.1123\n",
      "Epoch 19/20\n",
      "100/100 [==============================] - 1s 7ms/step - loss: 0.0899 - accuracy: 0.1174\n",
      "Epoch 20/20\n",
      "100/100 [==============================] - 1s 7ms/step - loss: 0.0899 - accuracy: 0.1171\n",
      "313/313 [==============================] - 1s 2ms/step - loss: 0.0899 - accuracy: 0.1135\n",
      "Test Accuracy: 0.11349999904632568\n"
     ]
    }
   ],
   "source": [
    "model = Sequential()\n",
    "model.add(Dense(input_dim = 28*28, units = 689, activation = 'sigmoid'))\n",
    "for i in range(2):\n",
    "    model.add(Dense(units = 689, activation = 'sigmoid'))\n",
    "model.add(Dense(units= 10, activation='softmax'))\n",
    "model.compile(loss='mse' ,optimizer=SGD(learning_rate=0.1), metrics=['accuracy'])\n",
    "# model.compile(loss='categorical_crossentropy' ,optimizer=SGD(learning_rate=0.1), metrics=['accuracy'])\n",
    "# model.compile(loss='categorical_crossentropy' ,optimizer='adam', metrics=['accuracy'])\n",
    "model.fit(x_train, y_train, batch_size=100, epochs=20)\n",
    "score = model.evaluate(x_test, y_test)\n",
    "print('Test Accuracy:', score[1])"
   ]
  },
  {
   "cell_type": "code",
   "execution_count": 40,
   "id": "91e9e9a0-a962-4d0b-9b1f-4acc98a31523",
   "metadata": {},
   "outputs": [
    {
     "name": "stdout",
     "output_type": "stream",
     "text": [
      "313/313 [==============================] - 1s 2ms/step - loss: 0.0899 - accuracy: 0.1127\n",
      "Training Set Accuracy: 0.11270000040531158\n",
      "313/313 [==============================] - 1s 2ms/step - loss: 0.0899 - accuracy: 0.1135\n",
      "Testing Set Accuracy: 0.11349999904632568\n"
     ]
    }
   ],
   "source": [
    "# 先检查training set上训练的正确率是否比较满意\n",
    "training_set_score = model.evaluate(x_train, y_train)\n",
    "print('Training Set Accuracy:', training_set_score[1])\n",
    "# 再检查一下testing set上训练的正确率\n",
    "testing_set_score = model.evaluate(x_test, y_test)\n",
    "print('Testing Set Accuracy:', testing_set_score[1])\n",
    "# 可见 其实参数在Training set的正确率都不咋地，train都没train好，所以更别谈Overfitting的问题了 ==》 问题所在：lossfunction设置的不对，mse在分类问题上不会得到好的结果"
   ]
  },
  {
   "cell_type": "markdown",
   "id": "7e23c5fb-b6c4-4e1b-ad98-6d75b8611549",
   "metadata": {},
   "source": [
    "#### Changed the loss function to optimize the accuracy"
   ]
  },
  {
   "cell_type": "code",
   "execution_count": 43,
   "id": "db1d2963-b5e4-4003-9dbe-21bfa2874829",
   "metadata": {},
   "outputs": [
    {
     "name": "stdout",
     "output_type": "stream",
     "text": [
      "Epoch 1/20\n",
      "100/100 [==============================] - 1s 7ms/step - loss: 2.5109 - accuracy: 0.1038\n",
      "Epoch 2/20\n",
      "100/100 [==============================] - 1s 6ms/step - loss: 2.3524 - accuracy: 0.1161\n",
      "Epoch 3/20\n",
      "100/100 [==============================] - 1s 7ms/step - loss: 2.3079 - accuracy: 0.1274\n",
      "Epoch 4/20\n",
      "100/100 [==============================] - 1s 6ms/step - loss: 2.2873 - accuracy: 0.1337\n",
      "Epoch 5/20\n",
      "100/100 [==============================] - 1s 7ms/step - loss: 2.2498 - accuracy: 0.1726\n",
      "Epoch 6/20\n",
      "100/100 [==============================] - 1s 7ms/step - loss: 2.1728 - accuracy: 0.2345\n",
      "Epoch 7/20\n",
      "100/100 [==============================] - 1s 7ms/step - loss: 1.9926 - accuracy: 0.3400\n",
      "Epoch 8/20\n",
      "100/100 [==============================] - 1s 7ms/step - loss: 1.6728 - accuracy: 0.4440\n",
      "Epoch 9/20\n",
      "100/100 [==============================] - 1s 7ms/step - loss: 1.3580 - accuracy: 0.5190\n",
      "Epoch 10/20\n",
      "100/100 [==============================] - 1s 7ms/step - loss: 1.1362 - accuracy: 0.5970\n",
      "Epoch 11/20\n",
      "100/100 [==============================] - 1s 7ms/step - loss: 0.9815 - accuracy: 0.6488\n",
      "Epoch 12/20\n",
      "100/100 [==============================] - 1s 7ms/step - loss: 0.8624 - accuracy: 0.7031\n",
      "Epoch 13/20\n",
      "100/100 [==============================] - 1s 7ms/step - loss: 0.7907 - accuracy: 0.7285\n",
      "Epoch 14/20\n",
      "100/100 [==============================] - 1s 7ms/step - loss: 0.7266 - accuracy: 0.7636\n",
      "Epoch 15/20\n",
      "100/100 [==============================] - 1s 7ms/step - loss: 0.6686 - accuracy: 0.7865\n",
      "Epoch 16/20\n",
      "100/100 [==============================] - 1s 7ms/step - loss: 0.6231 - accuracy: 0.8067\n",
      "Epoch 17/20\n",
      "100/100 [==============================] - 1s 7ms/step - loss: 0.5858 - accuracy: 0.8198\n",
      "Epoch 18/20\n",
      "100/100 [==============================] - 1s 7ms/step - loss: 0.5518 - accuracy: 0.8339\n",
      "Epoch 19/20\n",
      "100/100 [==============================] - 1s 7ms/step - loss: 0.5250 - accuracy: 0.8400\n",
      "Epoch 20/20\n",
      "100/100 [==============================] - 1s 7ms/step - loss: 0.4950 - accuracy: 0.8521\n",
      "313/313 [==============================] - 1s 2ms/step - loss: 0.4760 - accuracy: 0.8606\n",
      "Changed LossFunction's Training Set Accuracy: 0.8605999946594238\n",
      "313/313 [==============================] - 1s 2ms/step - loss: 0.5021 - accuracy: 0.8440\n",
      "Changed LossFunction's Testing Set Accuracy: 0.843999981880188\n"
     ]
    }
   ],
   "source": [
    "model_crossentropy = Sequential()\n",
    "model_crossentropy.add(Dense(input_dim = 28*28, units = 689, activation = 'sigmoid'))\n",
    "for i in range(2):\n",
    "    model_crossentropy.add(Dense(units=689, activation='sigmoid'))\n",
    "model_crossentropy.add(Dense(units=10, activation='softmax'))\n",
    "model_crossentropy.compile(loss='categorical_crossentropy', optimizer=SGD(lr=0.1), metrics=['accuracy'])\n",
    "model_crossentropy.fit(x_train, y_train, batch_size=100, epochs=20)\n",
    "training_set_score = model_crossentropy.evaluate(x_train, y_train)\n",
    "print('Changed LossFunction\\'s Training Set Accuracy:', training_set_score[1])\n",
    "testing_set_score = model_crossentropy.evaluate(x_test, y_test)\n",
    "print('Changed LossFunction\\'s Testing Set Accuracy:', testing_set_score[1])\n",
    "# 可见，改变了lossfunction之后，正确率得到显著的提升"
   ]
  },
  {
   "cell_type": "code",
   "execution_count": 48,
   "id": "9f167ce5-3d0f-42ca-b6b5-47b59b678935",
   "metadata": {},
   "outputs": [
    {
     "name": "stdout",
     "output_type": "stream",
     "text": [
      "Epoch 1/20\n",
      "1/1 [==============================] - 1s 505ms/step - loss: 2.5428 - accuracy: 0.0944\n",
      "Epoch 2/20\n",
      "1/1 [==============================] - 0s 286ms/step - loss: 2.4376 - accuracy: 0.1127\n",
      "Epoch 3/20\n",
      "1/1 [==============================] - 0s 273ms/step - loss: 2.4039 - accuracy: 0.1070\n",
      "Epoch 4/20\n",
      "1/1 [==============================] - 0s 269ms/step - loss: 2.3913 - accuracy: 0.1127\n",
      "Epoch 5/20\n",
      "1/1 [==============================] - 0s 301ms/step - loss: 2.3859 - accuracy: 0.1070\n",
      "Epoch 6/20\n",
      "1/1 [==============================] - 0s 270ms/step - loss: 2.3739 - accuracy: 0.1127\n",
      "Epoch 7/20\n",
      "1/1 [==============================] - 0s 269ms/step - loss: 2.3782 - accuracy: 0.1070\n",
      "Epoch 8/20\n",
      "1/1 [==============================] - 0s 269ms/step - loss: 2.3681 - accuracy: 0.1127\n",
      "Epoch 9/20\n",
      "1/1 [==============================] - 0s 270ms/step - loss: 2.3729 - accuracy: 0.1070\n",
      "Epoch 10/20\n",
      "1/1 [==============================] - 0s 276ms/step - loss: 2.3635 - accuracy: 0.1127\n",
      "Epoch 11/20\n",
      "1/1 [==============================] - 0s 269ms/step - loss: 2.3689 - accuracy: 0.1070\n",
      "Epoch 12/20\n",
      "1/1 [==============================] - 0s 268ms/step - loss: 2.3599 - accuracy: 0.1127\n",
      "Epoch 13/20\n",
      "1/1 [==============================] - 0s 267ms/step - loss: 2.3656 - accuracy: 0.1070\n",
      "Epoch 14/20\n",
      "1/1 [==============================] - 0s 274ms/step - loss: 2.3569 - accuracy: 0.1127\n",
      "Epoch 15/20\n",
      "1/1 [==============================] - 0s 266ms/step - loss: 2.3627 - accuracy: 0.1070\n",
      "Epoch 16/20\n",
      "1/1 [==============================] - 0s 268ms/step - loss: 2.3543 - accuracy: 0.1127\n",
      "Epoch 17/20\n",
      "1/1 [==============================] - 0s 269ms/step - loss: 2.3602 - accuracy: 0.1070\n",
      "Epoch 18/20\n",
      "1/1 [==============================] - 0s 269ms/step - loss: 2.3521 - accuracy: 0.1127\n",
      "Epoch 19/20\n",
      "1/1 [==============================] - 0s 269ms/step - loss: 2.3579 - accuracy: 0.1070\n",
      "Epoch 20/20\n",
      "1/1 [==============================] - 0s 267ms/step - loss: 2.3500 - accuracy: 0.1127\n",
      "313/313 [==============================] - 1s 2ms/step - loss: 2.3558 - accuracy: 0.1070\n",
      "Changed Batch_Size's Training Set Accuracy: 0.10700000077486038\n",
      "313/313 [==============================] - 1s 2ms/step - loss: 2.3577 - accuracy: 0.1028\n",
      "Changed Batch_Size's Testing Set Accuracy: 0.10279999673366547\n"
     ]
    }
   ],
   "source": [
    "model_batch_size = Sequential()\n",
    "model_batch_size.add(Dense(input_dim = 28*28, units = 689, activation = 'sigmoid'))\n",
    "for i in range(2):\n",
    "    model_batch_size.add(Dense(units=689, activation='sigmoid'))\n",
    "model_batch_size.add(Dense(units=10, activation='softmax'))\n",
    "model_batch_size.compile(loss='categorical_crossentropy', optimizer=SGD(lr=0.1), metrics=['accuracy'])\n",
    "model_batch_size.fit(x_train, y_train, batch_size=10000, epochs=20) # batch_size from 1000 to 10000\n",
    "# model_batch_size.fit(x_train, y_train, batch_size=1, epochs=20) # batch_size from 1000 to 1， too slowly\n",
    "training_set_score = model_batch_size.evaluate(x_train, y_train)\n",
    "print('Changed Batch_Size\\'s Training Set Accuracy:', training_set_score[1])\n",
    "testing_set_score = model_batch_size.evaluate(x_test, y_test)\n",
    "print('Changed Batch_Size\\'s Testing Set Accuracy:', testing_set_score[1])\n",
    "# 一样的network架构，batch_size越大，结果准确率却下降了"
   ]
  },
  {
   "cell_type": "markdown",
   "id": "1188c6da-3821-411d-b808-22caec8367eb",
   "metadata": {
    "tags": []
   },
   "source": [
    "#### Changed the batch_size to see what happended"
   ]
  },
  {
   "cell_type": "code",
   "execution_count": 49,
   "id": "28566a5d-250e-40f9-aef0-be11354513f2",
   "metadata": {},
   "outputs": [
    {
     "name": "stdout",
     "output_type": "stream",
     "text": [
      "Epoch 1/20\n",
      "100/100 [==============================] - 1s 7ms/step - loss: 2.5085 - accuracy: 0.0994\n",
      "Epoch 2/20\n",
      "100/100 [==============================] - 1s 7ms/step - loss: 2.3538 - accuracy: 0.1082\n",
      "Epoch 3/20\n",
      "100/100 [==============================] - 1s 6ms/step - loss: 2.3110 - accuracy: 0.1241\n",
      "Epoch 4/20\n",
      "100/100 [==============================] - 1s 7ms/step - loss: 2.2709 - accuracy: 0.1470\n",
      "Epoch 5/20\n",
      "100/100 [==============================] - 1s 6ms/step - loss: 2.2238 - accuracy: 0.1781\n",
      "Epoch 6/20\n",
      "100/100 [==============================] - 1s 6ms/step - loss: 2.1138 - accuracy: 0.2764\n",
      "Epoch 7/20\n",
      "100/100 [==============================] - 1s 7ms/step - loss: 1.8856 - accuracy: 0.3661\n",
      "Epoch 8/20\n",
      "100/100 [==============================] - 1s 7ms/step - loss: 1.5614 - accuracy: 0.4634\n",
      "Epoch 9/20\n",
      "100/100 [==============================] - 1s 7ms/step - loss: 1.2795 - accuracy: 0.5496\n",
      "Epoch 10/20\n",
      "100/100 [==============================] - 1s 7ms/step - loss: 1.0702 - accuracy: 0.6169\n",
      "Epoch 11/20\n",
      "100/100 [==============================] - 1s 7ms/step - loss: 0.9175 - accuracy: 0.6784\n",
      "Epoch 12/20\n",
      "100/100 [==============================] - 1s 7ms/step - loss: 0.8353 - accuracy: 0.7108\n",
      "Epoch 13/20\n",
      "100/100 [==============================] - 1s 7ms/step - loss: 0.7661 - accuracy: 0.7466\n",
      "Epoch 14/20\n",
      "100/100 [==============================] - 1s 7ms/step - loss: 0.7127 - accuracy: 0.7650\n",
      "Epoch 15/20\n",
      "100/100 [==============================] - 1s 6ms/step - loss: 0.6741 - accuracy: 0.7821\n",
      "Epoch 16/20\n",
      "100/100 [==============================] - 1s 6ms/step - loss: 0.6289 - accuracy: 0.8059\n",
      "Epoch 17/20\n",
      "100/100 [==============================] - 1s 6ms/step - loss: 0.5867 - accuracy: 0.8210\n",
      "Epoch 18/20\n",
      "100/100 [==============================] - 1s 7ms/step - loss: 0.5539 - accuracy: 0.8372\n",
      "Epoch 19/20\n",
      "100/100 [==============================] - 1s 6ms/step - loss: 0.5316 - accuracy: 0.8401\n",
      "Epoch 20/20\n",
      "100/100 [==============================] - 1s 6ms/step - loss: 0.5066 - accuracy: 0.8492\n",
      "313/313 [==============================] - 1s 2ms/step - loss: 0.4874 - accuracy: 0.8576\n",
      "Changed Batch_Size's Training Set Accuracy: 0.8575999736785889\n",
      "313/313 [==============================] - 1s 2ms/step - loss: 0.5163 - accuracy: 0.8412\n",
      "Changed Batch_Size's Testing Set Accuracy: 0.8411999940872192\n"
     ]
    }
   ],
   "source": [
    "model_batch_size = Sequential()\n",
    "model_batch_size.add(Dense(input_dim = 28*28, units = 689, activation = 'sigmoid'))\n",
    "for i in range(2):\n",
    "    model_batch_size.add(Dense(units=689, activation='sigmoid'))\n",
    "model_batch_size.add(Dense(units=10, activation='softmax'))\n",
    "model_batch_size.compile(loss='categorical_crossentropy', optimizer=SGD(lr=0.1), metrics=['accuracy'])\n",
    "model_batch_size.fit(x_train, y_train, batch_size=100, epochs=20) # from 100 to 1000 准确率下降非常快\n",
    "model_batch_size.fit(x_train, y_train, batch_size=1, epochs=20) # from 100 to 1  跑的很慢\n",
    "training_set_score = model_batch_size.evaluate(x_train, y_train)\n",
    "print('Changed Batch_Size\\'s Training Set Accuracy:', training_set_score[1])\n",
    "testing_set_score = model_batch_size.evaluate(x_test, y_test)\n",
    "print('Changed Batch_Size\\'s Testing Set Accuracy:', testing_set_score[1])"
   ]
  },
  {
   "cell_type": "markdown",
   "id": "b79ff89b-f908-43f2-a1a4-1afbcdbb9cc8",
   "metadata": {},
   "source": [
    "#### Improve the layer to see what happended"
   ]
  },
  {
   "cell_type": "code",
   "execution_count": 56,
   "id": "c41712d4-9ff6-487e-802f-05cb1a015945",
   "metadata": {},
   "outputs": [
    {
     "name": "stdout",
     "output_type": "stream",
     "text": [
      "Epoch 1/20\n",
      "100/100 [==============================] - 2s 21ms/step - loss: 2.4975 - accuracy: 0.1014\n",
      "Epoch 2/20\n",
      "100/100 [==============================] - 2s 20ms/step - loss: 2.3713 - accuracy: 0.1000\n",
      "Epoch 3/20\n",
      "100/100 [==============================] - 2s 22ms/step - loss: 2.3477 - accuracy: 0.1006\n",
      "Epoch 4/20\n",
      "100/100 [==============================] - 2s 22ms/step - loss: 2.3326 - accuracy: 0.0998\n",
      "Epoch 5/20\n",
      "100/100 [==============================] - 2s 20ms/step - loss: 2.3251 - accuracy: 0.1012\n",
      "Epoch 6/20\n",
      "100/100 [==============================] - 2s 21ms/step - loss: 2.3214 - accuracy: 0.1027\n",
      "Epoch 7/20\n",
      "100/100 [==============================] - 2s 20ms/step - loss: 2.3190 - accuracy: 0.1091\n",
      "Epoch 8/20\n",
      "100/100 [==============================] - 2s 21ms/step - loss: 2.3150 - accuracy: 0.1015\n",
      "Epoch 9/20\n",
      "100/100 [==============================] - 2s 22ms/step - loss: 2.3140 - accuracy: 0.1027\n",
      "Epoch 10/20\n",
      "100/100 [==============================] - 2s 21ms/step - loss: 2.3129 - accuracy: 0.0999\n",
      "Epoch 11/20\n",
      "100/100 [==============================] - 2s 22ms/step - loss: 2.3104 - accuracy: 0.1048\n",
      "Epoch 12/20\n",
      "100/100 [==============================] - 2s 22ms/step - loss: 2.3102 - accuracy: 0.1038\n",
      "Epoch 13/20\n",
      "100/100 [==============================] - 2s 21ms/step - loss: 2.3096 - accuracy: 0.1028\n",
      "Epoch 14/20\n",
      "100/100 [==============================] - 2s 20ms/step - loss: 2.3096 - accuracy: 0.1013\n",
      "Epoch 15/20\n",
      "100/100 [==============================] - 2s 20ms/step - loss: 2.3068 - accuracy: 0.1076\n",
      "Epoch 16/20\n",
      "100/100 [==============================] - 2s 22ms/step - loss: 2.3062 - accuracy: 0.1085\n",
      "Epoch 17/20\n",
      "100/100 [==============================] - 2s 22ms/step - loss: 2.3071 - accuracy: 0.1015\n",
      "Epoch 18/20\n",
      "100/100 [==============================] - 2s 20ms/step - loss: 2.3064 - accuracy: 0.1027\n",
      "Epoch 19/20\n",
      "100/100 [==============================] - 2s 20ms/step - loss: 2.3069 - accuracy: 0.1027\n",
      "Epoch 20/20\n",
      "100/100 [==============================] - 2s 20ms/step - loss: 2.3055 - accuracy: 0.1017\n",
      "313/313 [==============================] - 2s 5ms/step - loss: 2.3033 - accuracy: 0.1127\n",
      "Improve Layer's Training Set Accuracy: 0.11270000040531158\n",
      "313/313 [==============================] - 1s 5ms/step - loss: 2.3035 - accuracy: 0.1135\n",
      "Improve Layer's Testing Set Accuracy: 0.11349999904632568\n"
     ]
    }
   ],
   "source": [
    "model_improve_layers = Sequential()\n",
    "model_improve_layers.add(Dense(input_dim = 28*28, units = 689, activation = 'sigmoid'))\n",
    "for i in range(10): # from 2 to 10 卡住了\n",
    "    model_improve_layers.add(Dense(units=689, activation='sigmoid'))\n",
    "model_improve_layers.add(Dense(units=10, activation='softmax'))\n",
    "model_improve_layers.compile(loss='categorical_crossentropy', optimizer=SGD(lr=0.1), metrics=['accuracy'])\n",
    "model_improve_layers.fit(x_train, y_train, batch_size=100, epochs=20)\n",
    "training_set_score = model_improve_layers.evaluate(x_train, y_train)\n",
    "print('Improve Layer\\'s Training Set Accuracy:', training_set_score[1])\n",
    "testing_set_score = model_improve_layers.evaluate(x_test, y_test)\n",
    "print('Improve Layer\\'s Testing Set Accuracy:', testing_set_score[1])\n",
    "# 从日志中可以看到，层数上升的同时，train的过程已经卡住了，Loss一直卡在2.3，存在梯度消失gradient vanishing的问题，激活函数改成Relu和Maxout可以对梯度进行优化"
   ]
  },
  {
   "cell_type": "markdown",
   "id": "f91ac6c6-8aa4-4358-acdc-5b552fbf6822",
   "metadata": {},
   "source": [
    "#### Use ReLu to optimize"
   ]
  },
  {
   "cell_type": "code",
   "execution_count": 62,
   "id": "3382c339-5307-4a22-b046-05b83b342366",
   "metadata": {},
   "outputs": [
    {
     "name": "stdout",
     "output_type": "stream",
     "text": [
      "Epoch 1/20\n",
      "100/100 [==============================] - 2s 21ms/step - loss: 2.1335 - accuracy: 0.2739\n",
      "Epoch 2/20\n",
      "100/100 [==============================] - 2s 21ms/step - loss: 1.1537 - accuracy: 0.5886\n",
      "Epoch 3/20\n",
      "100/100 [==============================] - 2s 21ms/step - loss: 0.5405 - accuracy: 0.8337\n",
      "Epoch 4/20\n",
      "100/100 [==============================] - 2s 21ms/step - loss: 0.3250 - accuracy: 0.9073\n",
      "Epoch 5/20\n",
      "100/100 [==============================] - 2s 21ms/step - loss: 0.4729 - accuracy: 0.8725\n",
      "Epoch 6/20\n",
      "100/100 [==============================] - 2s 21ms/step - loss: 0.1826 - accuracy: 0.9482\n",
      "Epoch 7/20\n",
      "100/100 [==============================] - 2s 21ms/step - loss: 0.1147 - accuracy: 0.9679\n",
      "Epoch 8/20\n",
      "100/100 [==============================] - 2s 21ms/step - loss: 0.0839 - accuracy: 0.9773\n",
      "Epoch 9/20\n",
      "100/100 [==============================] - 2s 21ms/step - loss: 0.0597 - accuracy: 0.9832\n",
      "Epoch 10/20\n",
      "100/100 [==============================] - 2s 21ms/step - loss: 0.0742 - accuracy: 0.9797\n",
      "Epoch 11/20\n",
      "100/100 [==============================] - 2s 21ms/step - loss: 0.0379 - accuracy: 0.9890\n",
      "Epoch 12/20\n",
      "100/100 [==============================] - 2s 21ms/step - loss: 0.0185 - accuracy: 0.9952\n",
      "Epoch 13/20\n",
      "100/100 [==============================] - 2s 21ms/step - loss: 0.0098 - accuracy: 0.9981\n",
      "Epoch 14/20\n",
      "100/100 [==============================] - 2s 21ms/step - loss: 0.0053 - accuracy: 0.9989\n",
      "Epoch 15/20\n",
      "100/100 [==============================] - 2s 21ms/step - loss: 0.0053 - accuracy: 0.9987\n",
      "Epoch 16/20\n",
      "100/100 [==============================] - 2s 21ms/step - loss: 0.0029 - accuracy: 0.9993\n",
      "Epoch 17/20\n",
      "100/100 [==============================] - 2s 21ms/step - loss: 0.0011 - accuracy: 0.9997\n",
      "Epoch 18/20\n",
      "100/100 [==============================] - 2s 21ms/step - loss: 5.6310e-04 - accuracy: 1.0000\n",
      "Epoch 19/20\n",
      "100/100 [==============================] - 2s 22ms/step - loss: 3.2881e-04 - accuracy: 1.0000\n",
      "Epoch 20/20\n",
      "100/100 [==============================] - 2s 22ms/step - loss: 2.4116e-04 - accuracy: 1.0000\n",
      "313/313 [==============================] - 1s 4ms/step - loss: 2.0094e-04 - accuracy: 1.0000\n",
      "Changed Activation's Training Set Accuracy: 1.0\n",
      "313/313 [==============================] - 1s 4ms/step - loss: 0.2505 - accuracy: 0.9579\n",
      "Changed Activation's Testing Set Accuracy: 0.9578999876976013\n"
     ]
    }
   ],
   "source": [
    "model_relu = Sequential()\n",
    "model_relu.add(Dense(input_dim = 28*28, units = 689, activation = 'relu')) # 激活函数从sigmoid改成relu防止梯度小时\n",
    "for i in range(10): # from 2 to 10 卡住了\n",
    "    model_relu.add(Dense(units=689, activation='relu'))\n",
    "model_relu.add(Dense(units=10, activation='softmax'))\n",
    "model_relu.compile(loss='categorical_crossentropy', optimizer=SGD(lr=0.1), metrics=['accuracy']) \n",
    "model_relu.fit(x_train, y_train, batch_size=100, epochs=20)\n",
    "training_set_score = model_relu.evaluate(x_train, y_train)\n",
    "print('Changed Activation\\'s Training Set Accuracy:', training_set_score[1])\n",
    "testing_set_score = model_relu.evaluate(x_test, y_test)\n",
    "print('Changed Activation\\'s Testing Set Accuracy:', testing_set_score[1])\n",
    "# 可以看到，激活函数从sigmoid改成relu之后，梯度不再消失，正确率能得到显著提升"
   ]
  },
  {
   "cell_type": "markdown",
   "id": "0efba00e-e62a-4978-b9e0-cf2af1c14814",
   "metadata": {
    "tags": []
   },
   "source": [
    "#### Change the optimizer from SGD to Adam"
   ]
  },
  {
   "cell_type": "code",
   "execution_count": 60,
   "id": "8cdc6d45-dca2-46a9-b9fc-8b4df6ce9d21",
   "metadata": {},
   "outputs": [
    {
     "name": "stdout",
     "output_type": "stream",
     "text": [
      "Epoch 1/20\n",
      "100/100 [==============================] - 3s 26ms/step - loss: 1.0888 - accuracy: 0.6067\n",
      "Epoch 2/20\n",
      "100/100 [==============================] - 3s 26ms/step - loss: 0.3375 - accuracy: 0.9143\n",
      "Epoch 3/20\n",
      "100/100 [==============================] - 3s 26ms/step - loss: 0.2145 - accuracy: 0.9454\n",
      "Epoch 4/20\n",
      "100/100 [==============================] - 3s 26ms/step - loss: 0.1698 - accuracy: 0.9583\n",
      "Epoch 5/20\n",
      "100/100 [==============================] - 3s 27ms/step - loss: 0.1502 - accuracy: 0.9638\n",
      "Epoch 6/20\n",
      "100/100 [==============================] - 3s 26ms/step - loss: 0.1099 - accuracy: 0.9725\n",
      "Epoch 7/20\n",
      "100/100 [==============================] - 3s 26ms/step - loss: 0.1071 - accuracy: 0.9753\n",
      "Epoch 8/20\n",
      "100/100 [==============================] - 3s 26ms/step - loss: 0.1052 - accuracy: 0.9758\n",
      "Epoch 9/20\n",
      "100/100 [==============================] - 3s 26ms/step - loss: 0.1318 - accuracy: 0.9711\n",
      "Epoch 10/20\n",
      "100/100 [==============================] - 3s 26ms/step - loss: 0.1264 - accuracy: 0.9762\n",
      "Epoch 11/20\n",
      "100/100 [==============================] - 3s 26ms/step - loss: 0.1113 - accuracy: 0.9766\n",
      "Epoch 12/20\n",
      "100/100 [==============================] - 3s 26ms/step - loss: 0.1436 - accuracy: 0.9691\n",
      "Epoch 13/20\n",
      "100/100 [==============================] - 3s 26ms/step - loss: 0.0730 - accuracy: 0.9840\n",
      "Epoch 14/20\n",
      "100/100 [==============================] - 3s 26ms/step - loss: 0.1010 - accuracy: 0.9784\n",
      "Epoch 15/20\n",
      "100/100 [==============================] - 3s 26ms/step - loss: 0.0620 - accuracy: 0.9862\n",
      "Epoch 16/20\n",
      "100/100 [==============================] - 3s 26ms/step - loss: 0.0691 - accuracy: 0.9844\n",
      "Epoch 17/20\n",
      "100/100 [==============================] - 3s 26ms/step - loss: 0.0716 - accuracy: 0.9838\n",
      "Epoch 18/20\n",
      "100/100 [==============================] - 3s 26ms/step - loss: 0.0516 - accuracy: 0.9897\n",
      "Epoch 19/20\n",
      "100/100 [==============================] - 3s 26ms/step - loss: 0.0707 - accuracy: 0.9858\n",
      "Epoch 20/20\n",
      "100/100 [==============================] - 3s 26ms/step - loss: 0.0497 - accuracy: 0.9895\n",
      "313/313 [==============================] - 1s 4ms/step - loss: 0.0314 - accuracy: 0.9928\n",
      "Changed Optimizer's Training Set Accuracy: 0.9927999973297119\n",
      "313/313 [==============================] - 1s 4ms/step - loss: 0.3282 - accuracy: 0.9569\n",
      "Changed Optimizer's Testing Set Accuracy: 0.9569000005722046\n"
     ]
    }
   ],
   "source": [
    "model_adam = Sequential()\n",
    "model_adam.add(Dense(input_dim = 28*28, units = 689, activation = 'relu')) \n",
    "for i in range(10): # from 2 to 10 卡住了\n",
    "    model_adam.add(Dense(units=689, activation='relu'))\n",
    "model_adam.add(Dense(units=10, activation='softmax'))\n",
    "model_adam.compile(loss='categorical_crossentropy', optimizer='adam', metrics=['accuracy'])  # change the optimizer from SGD(lr=0.1) to adam\n",
    "model_adam.fit(x_train, y_train, batch_size=100, epochs=20)\n",
    "training_set_score = model_adam.evaluate(x_train, y_train)\n",
    "print('Changed Optimizer\\'s Training Set Accuracy:', training_set_score[1])\n",
    "testing_set_score = model_adam.evaluate(x_test, y_test)\n",
    "print('Changed Optimizer\\'s Testing Set Accuracy:', testing_set_score[1])\n",
    "# 可以看到，用adam优化之后，对比于SGD，在前几个epoch就能得到很高的正确率，梯度下降的很完美"
   ]
  },
  {
   "cell_type": "markdown",
   "id": "4e47d829-31b5-4395-ad01-c48b88d0d072",
   "metadata": {},
   "source": [
    "#### Changed the testing set to normal to create an situation that when training set unmatched with testing set"
   ]
  },
  {
   "cell_type": "code",
   "execution_count": 78,
   "id": "28d0cc9f-8833-4aaa-bfac-47eed8515b77",
   "metadata": {},
   "outputs": [
    {
     "name": "stdout",
     "output_type": "stream",
     "text": [
      "Epoch 1/20\n",
      "100/100 [==============================] - 3s 27ms/step - loss: 0.8355 - accuracy: 0.7147\n",
      "Epoch 2/20\n",
      "100/100 [==============================] - 3s 29ms/step - loss: 0.2865 - accuracy: 0.9252\n",
      "Epoch 3/20\n",
      "100/100 [==============================] - 3s 27ms/step - loss: 0.2049 - accuracy: 0.9490\n",
      "Epoch 4/20\n",
      "100/100 [==============================] - 3s 28ms/step - loss: 0.1684 - accuracy: 0.9577\n",
      "Epoch 5/20\n",
      "100/100 [==============================] - 3s 26ms/step - loss: 0.1504 - accuracy: 0.9635\n",
      "Epoch 6/20\n",
      "100/100 [==============================] - 3s 26ms/step - loss: 0.2248 - accuracy: 0.9460\n",
      "Epoch 7/20\n",
      "100/100 [==============================] - 3s 26ms/step - loss: 0.1432 - accuracy: 0.9686\n",
      "Epoch 8/20\n",
      "100/100 [==============================] - 3s 28ms/step - loss: 0.0950 - accuracy: 0.9794\n",
      "Epoch 9/20\n",
      "100/100 [==============================] - 3s 28ms/step - loss: 0.1118 - accuracy: 0.9757\n",
      "Epoch 10/20\n",
      "100/100 [==============================] - 3s 29ms/step - loss: 0.1090 - accuracy: 0.9782\n",
      "Epoch 11/20\n",
      "100/100 [==============================] - 3s 28ms/step - loss: 0.0752 - accuracy: 0.9828\n",
      "Epoch 12/20\n",
      "100/100 [==============================] - 3s 29ms/step - loss: 0.0698 - accuracy: 0.9854\n",
      "Epoch 13/20\n",
      "100/100 [==============================] - 3s 28ms/step - loss: 0.0621 - accuracy: 0.9865\n",
      "Epoch 14/20\n",
      "100/100 [==============================] - 3s 26ms/step - loss: 0.0683 - accuracy: 0.9873\n",
      "Epoch 15/20\n",
      "100/100 [==============================] - 3s 26ms/step - loss: 0.0736 - accuracy: 0.9868\n",
      "Epoch 16/20\n",
      "100/100 [==============================] - 3s 27ms/step - loss: 0.0592 - accuracy: 0.9889\n",
      "Epoch 17/20\n",
      "100/100 [==============================] - 3s 26ms/step - loss: 0.0437 - accuracy: 0.9907\n",
      "Epoch 18/20\n",
      "100/100 [==============================] - 3s 28ms/step - loss: 0.0492 - accuracy: 0.9907\n",
      "Epoch 19/20\n",
      "100/100 [==============================] - 3s 29ms/step - loss: 0.0920 - accuracy: 0.9823\n",
      "Epoch 20/20\n",
      "100/100 [==============================] - 3s 26ms/step - loss: 0.0632 - accuracy: 0.9880\n",
      "313/313 [==============================] - 1s 4ms/step - loss: 0.0344 - accuracy: 0.9917\n",
      "When testing set unmatched with training set's Training Set Accuracy: 0.9916999936103821\n",
      "313/313 [==============================] - 1s 4ms/step - loss: 6.4567 - accuracy: 0.4948\n",
      "When testing set unmatched with training set's Testing Set Accuracy: 0.49480000138282776\n"
     ]
    }
   ],
   "source": [
    "model_changed_testing_set = Sequential()\n",
    "model_changed_testing_set.add(Dense(input_dim = 28*28, units = 689, activation = 'relu')) \n",
    "for i in range(2): \n",
    "    model_changed_testing_set.add(Dense(units=689, activation='relu'))\n",
    "model_changed_testing_set.add(Dense(units=10, activation='softmax'))\n",
    "model_changed_testing_set.compile(loss='categorical_crossentropy', optimizer='adam', metrics=['accuracy']) \n",
    "model_changed_testing_set.fit(x_train, y_train, batch_size=100, epochs=20)\n",
    "training_set_score = model_changed_testing_set.evaluate(x_train, y_train)\n",
    "print('When testing set unmatched with training set\\'s Training Set Accuracy:', training_set_score[1])\n",
    "testing_set_score = model_changed_testing_set.evaluate(x_test, y_test)\n",
    "print('When testing set unmatched with training set\\'s Testing Set Accuracy:', testing_set_score[1])\n",
    "# training set 和 testing set不match的情况下，在测试集正确率又烂掉了,此时就需要设置Dropout"
   ]
  },
  {
   "cell_type": "markdown",
   "id": "3a7e393c-81bf-4aa9-9c4c-741f0784562d",
   "metadata": {},
   "source": [
    "#### Add Dropout to solve the problem when the testing set unmatched with the training set"
   ]
  },
  {
   "cell_type": "code",
   "execution_count": 80,
   "id": "2f1bc011-9c3a-40a8-9e35-1a5e74fc13c1",
   "metadata": {},
   "outputs": [
    {
     "name": "stdout",
     "output_type": "stream",
     "text": [
      "Epoch 1/20\n",
      "100/100 [==============================] - 1s 9ms/step - loss: 1.5332 - accuracy: 0.4686\n",
      "Epoch 2/20\n",
      "100/100 [==============================] - 1s 9ms/step - loss: 0.6285 - accuracy: 0.8026\n",
      "Epoch 3/20\n",
      "100/100 [==============================] - 1s 9ms/step - loss: 0.4667 - accuracy: 0.8662\n",
      "Epoch 4/20\n",
      "100/100 [==============================] - 1s 9ms/step - loss: 0.3851 - accuracy: 0.8882\n",
      "Epoch 5/20\n",
      "100/100 [==============================] - 1s 9ms/step - loss: 0.3387 - accuracy: 0.8994\n",
      "Epoch 6/20\n",
      "100/100 [==============================] - 1s 9ms/step - loss: 0.3021 - accuracy: 0.9122\n",
      "Epoch 7/20\n",
      "100/100 [==============================] - 1s 9ms/step - loss: 0.2739 - accuracy: 0.9196\n",
      "Epoch 8/20\n",
      "100/100 [==============================] - 1s 9ms/step - loss: 0.2511 - accuracy: 0.9271\n",
      "Epoch 9/20\n",
      "100/100 [==============================] - 1s 9ms/step - loss: 0.2477 - accuracy: 0.9288\n",
      "Epoch 10/20\n",
      "100/100 [==============================] - 1s 9ms/step - loss: 0.2264 - accuracy: 0.9332\n",
      "Epoch 11/20\n",
      "100/100 [==============================] - 1s 9ms/step - loss: 0.2092 - accuracy: 0.9395\n",
      "Epoch 12/20\n",
      "100/100 [==============================] - 1s 9ms/step - loss: 0.2013 - accuracy: 0.9431\n",
      "Epoch 13/20\n",
      "100/100 [==============================] - 1s 9ms/step - loss: 0.2028 - accuracy: 0.9416\n",
      "Epoch 14/20\n",
      "100/100 [==============================] - 1s 9ms/step - loss: 0.1916 - accuracy: 0.9437\n",
      "Epoch 15/20\n",
      "100/100 [==============================] - 1s 9ms/step - loss: 0.1819 - accuracy: 0.9463\n",
      "Epoch 16/20\n",
      "100/100 [==============================] - 1s 9ms/step - loss: 0.1822 - accuracy: 0.9468\n",
      "Epoch 17/20\n",
      "100/100 [==============================] - 1s 9ms/step - loss: 0.1641 - accuracy: 0.9489\n",
      "Epoch 18/20\n",
      "100/100 [==============================] - 1s 9ms/step - loss: 0.1670 - accuracy: 0.9503\n",
      "Epoch 19/20\n",
      "100/100 [==============================] - 1s 9ms/step - loss: 0.1624 - accuracy: 0.9529\n",
      "Epoch 20/20\n",
      "100/100 [==============================] - 1s 9ms/step - loss: 0.1571 - accuracy: 0.9541\n",
      "313/313 [==============================] - 1s 2ms/step - loss: 0.0386 - accuracy: 0.9893\n",
      "When testing set unmatched with training set, Use Dropout's Training Set Accuracy: 0.989300012588501\n",
      "313/313 [==============================] - 1s 2ms/step - loss: 3.4801 - accuracy: 0.6039\n",
      "When testing set unmatched with training set, Use Dropout's Testing Set Accuracy: 0.6039000153541565\n"
     ]
    }
   ],
   "source": [
    "model_dropout = Sequential()\n",
    "model_dropout.add(Dense(input_dim = 28*28, units = 689, activation = 'relu')) \n",
    "model_dropout.add(Dropout(0.7)) # Dropout需要加在每一个hidden layer后面\n",
    "for i in range(2): \n",
    "    model_dropout.add(Dense(units=689, activation='relu'))\n",
    "    model_dropout.add(Dropout(0.7)) # Dropout需要加在每一个hidden layer后面\n",
    "model_dropout.add(Dense(units=10, activation='softmax'))\n",
    "model_dropout.compile(loss='categorical_crossentropy', optimizer='adam', metrics=['accuracy']) \n",
    "model_dropout.fit(x_train, y_train, batch_size=100, epochs=20)\n",
    "training_set_score = model_dropout.evaluate(x_train, y_train)\n",
    "print('When testing set unmatched with training set, Use Dropout\\'s Training Set Accuracy:', training_set_score[1])\n",
    "testing_set_score = model_dropout.evaluate(x_test, y_test)\n",
    "print('When testing set unmatched with training set, Use Dropout\\'s Testing Set Accuracy:', testing_set_score[1])\n",
    "# 可以看到，加了dropout后，trainingset上的正确率也会一定的降低，但是testingset上的正确率有提升"
   ]
  }
 ],
 "metadata": {
  "kernelspec": {
   "display_name": "Python 3 (ipykernel)",
   "language": "python",
   "name": "python3"
  },
  "language_info": {
   "codemirror_mode": {
    "name": "ipython",
    "version": 3
   },
   "file_extension": ".py",
   "mimetype": "text/x-python",
   "name": "python",
   "nbconvert_exporter": "python",
   "pygments_lexer": "ipython3",
   "version": "3.10.4"
  }
 },
 "nbformat": 4,
 "nbformat_minor": 5
}
